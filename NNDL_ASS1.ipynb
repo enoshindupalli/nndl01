{
  "nbformat": 4,
  "nbformat_minor": 0,
  "metadata": {
    "colab": {
      "provenance": []
    },
    "kernelspec": {
      "name": "python3",
      "display_name": "Python 3"
    },
    "language_info": {
      "name": "python"
    }
  },
  "cells": [
    {
      "cell_type": "code",
      "execution_count": 13,
      "metadata": {
        "colab": {
          "base_uri": "https://localhost:8080/"
        },
        "id": "twDSb4B4iMgc",
        "outputId": "27c7d463-2e46-4337-83a2-4c1464db45de"
      },
      "outputs": [
        {
          "output_type": "stream",
          "name": "stdout",
          "text": [
            "Enter your first name: enosh\n",
            "Enter your last name: Indupalli\n",
            "Full Name: enosh Indupalli\n",
            "String Alternative: eohIdpli\n"
          ]
        }
      ],
      "source": [
        "# Function to concatenate first name and last name\n",
        "def fullname(first_name, last_name):\n",
        "    return f\"{first_name} {last_name}\"\n",
        "\n",
        "# Function to return every other character from a string\n",
        "def string_alternative(full_name):\n",
        "    return full_name[::2]\n",
        "# Main function\n",
        "def main():\n",
        "    # Take input from the user\n",
        "    first_name = input(\"Enter your first name: \")\n",
        "    last_name = input(\"Enter your last name: \")\n",
        "\n",
        "    # Get the full name\n",
        "    full_name = fullname(first_name, last_name)\n",
        "\n",
        "    # Get the alternative string\n",
        "    result = string_alternative(full_name)\n",
        "\n",
        "    # Display the results\n",
        "    print(f\"Full Name: {full_name}\")\n",
        "    print(f\"String Alternative: {result}\")\n",
        "\n",
        "# Call the main function\n",
        "if __name__ == \"__main__\":\n",
        "    main()"
      ]
    },
    {
      "cell_type": "code",
      "source": [
        "from collections import Counter\n",
        "\n",
        "# Initialize an empty dictionary to store word counts\n",
        "word_count = Counter()\n",
        "\n",
        "# Open the input file and read it line by line\n",
        "with open('/content/sample_data/input.txt', 'r') as file:\n",
        "    for line_num, line in enumerate(file, start=1):\n",
        "        # Split the line into words and update the word count\n",
        "        words = line.split()\n",
        "        word_count.update(words)\n",
        "\n",
        "        # Print the line\n",
        "        print(line.strip())\n",
        "\n",
        "# Print the word count\n",
        "print(\"Word_Count:\")\n",
        "for word, count in word_count.most_common():\n",
        "    print(f\"{word}: {count}\")\n",
        "\n",
        "# Write the output to a file\n",
        "with open('output.txt', 'w') as file:\n",
        "    for line_num, line in enumerate(open('/content/sample_data/input.txt', 'r'), start=1):\n",
        "        file.write(line)\n",
        "    file.write(\"Word_Count:\\n\")\n",
        "    for word, count in word_count.most_common():\n",
        "        file.write(f\"{word}: {count}\\n\")"
      ],
      "metadata": {
        "colab": {
          "base_uri": "https://localhost:8080/"
        },
        "id": "27GY06Dxi3l_",
        "outputId": "3c76fde7-4d01-4a7f-d0cb-4531cad4623b"
      },
      "execution_count": 15,
      "outputs": [
        {
          "output_type": "stream",
          "name": "stdout",
          "text": [
            "Python Course\n",
            "Deep Learning Course\n",
            "Word_Count:\n",
            "Course: 2\n",
            "Python: 1\n",
            "Deep: 1\n",
            "Learning: 1\n"
          ]
        }
      ]
    },
    {
      "cell_type": "code",
      "source": [
        "# Define a conversion factor (1 inch = 2.54 cm)\n",
        "INCH_TO_CM = 2.54\n",
        "\n",
        "def main():\n",
        "    # Read heights in inches from the user\n",
        "    num_customers = int(input(\"Enter the number of customers: \"))\n",
        "    heights_inches = []\n",
        "    for i in range(num_customers):\n",
        "        height = float(input(f\"Enter height of customer {i+1} (inches): \"))\n",
        "        heights_inches.append(height)\n",
        "\n",
        "    # Convert heights from inches to centimeters\n",
        "    heights_cm = [height * INCH_TO_CM for height in heights_inches]\n",
        "\n",
        "   # Print the results\n",
        "    print(heights_cm)\n",
        "\n",
        "if __name__ == \"__main__\":\n",
        "    main()"
      ],
      "metadata": {
        "colab": {
          "base_uri": "https://localhost:8080/"
        },
        "id": "HoI8IH-9qt-9",
        "outputId": "a6ef7daf-0f1d-4b22-8a43-57457b7fb146"
      },
      "execution_count": 12,
      "outputs": [
        {
          "output_type": "stream",
          "name": "stdout",
          "text": [
            "Enter the number of customers: 3\n",
            "Enter height of customer 1 (inches): 80\n",
            "Enter height of customer 2 (inches): 90\n",
            "Enter height of customer 3 (inches): 120\n",
            "[203.2, 228.6, 304.8]\n"
          ]
        }
      ]
    }
  ]
}